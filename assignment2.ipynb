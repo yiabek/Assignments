{
 "cells": [
  {
   "cell_type": "code",
   "execution_count": 1,
   "id": "a953f106-781e-467c-b443-c4e187f5c7cd",
   "metadata": {},
   "outputs": [
    {
     "data": {
      "text/plain": [
       "'\\nYianna Bekris\\nRCES \\n2/15/2024 \\n'"
      ]
     },
     "execution_count": 1,
     "metadata": {},
     "output_type": "execute_result"
    }
   ],
   "source": [
    "\"\"\"\n",
    "Yianna Bekris\n",
    "RCES \n",
    "2/15/2024 \n",
    "\"\"\""
   ]
  },
  {
   "cell_type": "code",
   "execution_count": 16,
   "id": "a3698d36-100f-4f5f-bedb-557e09bb75cf",
   "metadata": {},
   "outputs": [],
   "source": [
    "planets = [\"Mercury\", \"Venus\", \"Earth\", \"Mars\", \"Jupiter\", \"Saturn\", \"Uranus\", \"Neptune\"]\n",
    "planet_mass = [0.330, 4.87, 5.97, 0.073, 0.642, 1898, 568, 86.8, 102]"
   ]
  },
  {
   "cell_type": "code",
   "execution_count": 8,
   "id": "5f732d6b-69ea-4acf-8f08-e8c49cf2d843",
   "metadata": {},
   "outputs": [
    {
     "name": "stdout",
     "output_type": "stream",
     "text": [
      "There are 8 planets in the Solar System\n"
     ]
    }
   ],
   "source": [
    "number_of_planets = len(planets)\n",
    "print(f\"There are {number_of_planets} planets in the Solar System\")"
   ]
  },
  {
   "cell_type": "code",
   "execution_count": 11,
   "id": "aa2eade5-4e6f-43a9-b3af-bddf30444903",
   "metadata": {},
   "outputs": [],
   "source": [
    "first_4 = planets[0:4]"
   ]
  },
  {
   "cell_type": "code",
   "execution_count": 12,
   "id": "8a9a3de3-0543-4051-afc9-b728a1a85edd",
   "metadata": {},
   "outputs": [
    {
     "name": "stdout",
     "output_type": "stream",
     "text": [
      "['Mercury', 'Venus', 'Earth', 'Mars']\n"
     ]
    }
   ],
   "source": [
    "print(first_4)"
   ]
  },
  {
   "cell_type": "code",
   "execution_count": 14,
   "id": "cdfb50c5-b153-491d-a460-e0482975af1f",
   "metadata": {},
   "outputs": [
    {
     "name": "stdout",
     "output_type": "stream",
     "text": [
      "Mercury\n",
      "Earth\n",
      "Jupiter\n",
      "Saturn\n",
      "Neptune\n"
     ]
    }
   ],
   "source": [
    "for planet in planets:\n",
    "    if planet[-1] != 's':\n",
    "        print(planet)"
   ]
  },
  {
   "cell_type": "code",
   "execution_count": 15,
   "id": "836de6a6-26e6-4fde-8aa6-e0388f4770d2",
   "metadata": {},
   "outputs": [],
   "source": [
    "### Dictionaries"
   ]
  },
  {
   "cell_type": "code",
   "execution_count": 22,
   "id": "ec3167ac-f4a5-458d-9dae-85c3e719e9e3",
   "metadata": {},
   "outputs": [],
   "source": [
    "planet_mass = [0.330, 4.87, 5.97, 0.073, 0.642, 1898, 568, 86.8, 102]\n",
    "planets_dict = {\"Planet Name\" : planets,\n",
    "                \"Planet Mass (kg * 10**24\" : planet_mass\n",
    "               }\n",
    "\n",
    "ind_planets = {\"Mercury\" : 0.330, \"Venus\" : 4.87, \"Earth\" : 5.97,\n",
    "               \"Mars\" : 0.073, \"Jupiter\" : 1898, \"Saturn\" : 568,\n",
    "               \"Uranus\" : 86.8, \"Neptune\" : 102\n",
    "    \n",
    "}"
   ]
  },
  {
   "cell_type": "code",
   "execution_count": 27,
   "id": "b095d955-28ed-4075-9b46-95808162b7bb",
   "metadata": {},
   "outputs": [
    {
     "name": "stdout",
     "output_type": "stream",
     "text": [
      "('Earth', 5.97)\n"
     ]
    }
   ],
   "source": [
    "for i, planet in enumerate(ind_planets.items()):\n",
    "    if i == 2:\n",
    "        print(planet)"
   ]
  },
  {
   "cell_type": "code",
   "execution_count": 28,
   "id": "aa25c8e3-3ab9-4c83-9547-9f4e50bb31a3",
   "metadata": {},
   "outputs": [
    {
     "name": "stdout",
     "output_type": "stream",
     "text": [
      "('Mercury', 0.33)\n",
      "('Venus', 4.87)\n",
      "('Earth', 5.97)\n",
      "('Mars', 0.073)\n",
      "('Uranus', 86.8)\n"
     ]
    }
   ],
   "source": [
    "for i, planet in enumerate(ind_planets.items()):\n",
    "    if planet[1] < 100:\n",
    "        print(planet)"
   ]
  },
  {
   "cell_type": "code",
   "execution_count": 30,
   "id": "f8b3a74c-574d-40ea-bb29-37a165043566",
   "metadata": {},
   "outputs": [],
   "source": [
    "pluto_dict = {\"Pluto\" : 0.0130}\n",
    "ind_planets.update(pluto_dict)"
   ]
  },
  {
   "cell_type": "code",
   "execution_count": 31,
   "id": "b0efc695-636f-49cd-bfcd-a7e484286043",
   "metadata": {},
   "outputs": [
    {
     "data": {
      "text/plain": [
       "{'Mercury': 0.33,\n",
       " 'Venus': 4.87,\n",
       " 'Earth': 5.97,\n",
       " 'Mars': 0.073,\n",
       " 'Jupiter': 1898,\n",
       " 'Saturn': 568,\n",
       " 'Uranus': 86.8,\n",
       " 'Neptune': 102,\n",
       " 'Pluto': 0.013}"
      ]
     },
     "execution_count": 31,
     "metadata": {},
     "output_type": "execute_result"
    }
   ],
   "source": [
    "ind_planets"
   ]
  },
  {
   "cell_type": "code",
   "execution_count": 32,
   "id": "bb69be90-d540-4762-b2f9-fadc7cf450df",
   "metadata": {},
   "outputs": [],
   "source": [
    "### fuctions"
   ]
  },
  {
   "cell_type": "code",
   "execution_count": 35,
   "id": "ae58a5e1-9d6f-43ad-8522-d20bb4b0eadb",
   "metadata": {},
   "outputs": [],
   "source": [
    "### Converts Kelvin to Celsius\n",
    "def K_to_C(T_K):\n",
    "    return T_K - 273.15"
   ]
  },
  {
   "cell_type": "code",
   "execution_count": 36,
   "id": "e14e4508-4b5b-4221-bb9b-ec555772ae44",
   "metadata": {},
   "outputs": [
    {
     "name": "stdout",
     "output_type": "stream",
     "text": [
      "26.850000000000023\n"
     ]
    }
   ],
   "source": [
    "print(K_to_C(300))"
   ]
  },
  {
   "cell_type": "code",
   "execution_count": 37,
   "id": "b9157c19-f587-46aa-81a6-e1153d38d73c",
   "metadata": {},
   "outputs": [],
   "source": [
    "### Converts Celsius to Kelvin\n",
    "def C_to_K(T_C):\n",
    "    return T_C + 273.15"
   ]
  },
  {
   "cell_type": "code",
   "execution_count": 38,
   "id": "c5282910-236a-4025-8f1a-4c05f49deb4b",
   "metadata": {},
   "outputs": [
    {
     "name": "stdout",
     "output_type": "stream",
     "text": [
      "283.15\n"
     ]
    }
   ],
   "source": [
    "print(C_to_K(10))"
   ]
  },
  {
   "cell_type": "code",
   "execution_count": 45,
   "id": "6276b1ee-fd76-4c9c-93da-67aefd9663f5",
   "metadata": {},
   "outputs": [],
   "source": [
    "### Convert Farenheit to Celsius\n",
    "def F_to_C_K(T_F, scale):\n",
    "    temp = (T_F - 32) * 5/9\n",
    "    if (scale == \"K\") | (scale == \"Kelvin\"):\n",
    "        temp = C_to_K(temp)\n",
    "    return temp"
   ]
  },
  {
   "cell_type": "code",
   "execution_count": 65,
   "id": "e8d3204b-f92a-4585-b4c1-871963098b06",
   "metadata": {},
   "outputs": [
    {
     "name": "stdout",
     "output_type": "stream",
     "text": [
      "266.4833333333333\n"
     ]
    }
   ],
   "source": [
    "print(F_to_C_K(20, 'K'))"
   ]
  },
  {
   "cell_type": "code",
   "execution_count": 67,
   "id": "afd6c86a-0e2a-494c-baa0-e0c3b487fd30",
   "metadata": {},
   "outputs": [
    {
     "name": "stdout",
     "output_type": "stream",
     "text": [
      "-6.666666666666667\n"
     ]
    }
   ],
   "source": [
    "print(F_to_C_K(20, 'C'))"
   ]
  },
  {
   "cell_type": "code",
   "execution_count": 48,
   "id": "014ced69-ad59-4fc4-83ab-d6fba95274ef",
   "metadata": {},
   "outputs": [],
   "source": [
    "### Takes feet and inches and returns meters\n",
    "def height_to_m(feet, inches):\n",
    "    inches_feet = feet * 12\n",
    "    total_inches = inches_feet + inches\n",
    "    height_m = total_inches / 39.37\n",
    "    return height_m"
   ]
  },
  {
   "cell_type": "code",
   "execution_count": 49,
   "id": "e11ce59e-ab1b-49c0-afd1-6e5083bcd51c",
   "metadata": {},
   "outputs": [
    {
     "name": "stdout",
     "output_type": "stream",
     "text": [
      "1.7018034036068073\n"
     ]
    }
   ],
   "source": [
    "print(height_to_m(5,7))"
   ]
  },
  {
   "cell_type": "code",
   "execution_count": 56,
   "id": "f6453ecf-737b-4053-a833-f5afa2601136",
   "metadata": {},
   "outputs": [],
   "source": [
    "### Takes height in meters and returns feet and inches\n",
    "def height_to_imperial(meters):\n",
    "    total_inches = meters * 39.3701\n",
    "    feet = total_inches // 12\n",
    "    inches = total_inches % 12\n",
    "    return round(feet), round(inches)\n",
    "    "
   ]
  },
  {
   "cell_type": "code",
   "execution_count": 57,
   "id": "eed86ebf-9e94-4519-ac70-2898f99a2800",
   "metadata": {},
   "outputs": [
    {
     "name": "stdout",
     "output_type": "stream",
     "text": [
      "(5, 7)\n"
     ]
    }
   ],
   "source": [
    "print(height_to_imperial(1.7018034036068073))"
   ]
  },
  {
   "cell_type": "code",
   "execution_count": 68,
   "id": "862f21d1-23e9-47e5-b78c-314606b413c3",
   "metadata": {},
   "outputs": [
    {
     "name": "stdout",
     "output_type": "stream",
     "text": [
      "(5, 7)\n"
     ]
    }
   ],
   "source": [
    "my_feet = 5\n",
    "my_inches = 7\n",
    "\n",
    "my_height_m = height_to_m(my_feet, my_inches)\n",
    "my_feet_2, my_inches_2 = height_to_imperial(my_height_m)\n",
    "my_height_m_2 = height_to_m(my_feet_2, my_inches_2)\n",
    "my_height_imp_2 = height_to_imperial(my_height_m_2)\n",
    "print(my_height_imp_2)"
   ]
  },
  {
   "cell_type": "code",
   "execution_count": 69,
   "id": "4e9caddd-4a24-485a-b21e-4f572fb66cc1",
   "metadata": {},
   "outputs": [
    {
     "name": "stdout",
     "output_type": "stream",
     "text": [
      "(6, 3)\n"
     ]
    }
   ],
   "source": [
    "my_feet = 6\n",
    "my_inches = 3\n",
    "\n",
    "my_height_m = height_to_m(my_feet, my_inches)\n",
    "my_feet_2, my_inches_2 = height_to_imperial(my_height_m)\n",
    "my_height_m_2 = height_to_m(my_feet_2, my_inches_2)\n",
    "my_height_imp_2 = height_to_imperial(my_height_m_2)\n",
    "print(my_height_imp_2)"
   ]
  },
  {
   "cell_type": "code",
   "execution_count": 70,
   "id": "c4c289d5-9266-41d5-b791-4ca3c5ec7161",
   "metadata": {},
   "outputs": [
    {
     "name": "stdout",
     "output_type": "stream",
     "text": [
      "(4, 11)\n"
     ]
    }
   ],
   "source": [
    "my_feet = 4\n",
    "my_inches = 11\n",
    "\n",
    "my_height_m = height_to_m(my_feet, my_inches)\n",
    "my_feet_2, my_inches_2 = height_to_imperial(my_height_m)\n",
    "my_height_m_2 = height_to_m(my_feet_2, my_inches_2)\n",
    "my_height_imp_2 = height_to_imperial(my_height_m_2)\n",
    "print(my_height_imp_2)"
   ]
  },
  {
   "cell_type": "code",
   "execution_count": null,
   "id": "df50ead3-069c-4622-b094-e639e6e6c743",
   "metadata": {},
   "outputs": [],
   "source": []
  }
 ],
 "metadata": {
  "kernelspec": {
   "display_name": "Python 3 (ipykernel)",
   "language": "python",
   "name": "python3"
  },
  "language_info": {
   "codemirror_mode": {
    "name": "ipython",
    "version": 3
   },
   "file_extension": ".py",
   "mimetype": "text/x-python",
   "name": "python",
   "nbconvert_exporter": "python",
   "pygments_lexer": "ipython3",
   "version": "3.11.7"
  }
 },
 "nbformat": 4,
 "nbformat_minor": 5
}
